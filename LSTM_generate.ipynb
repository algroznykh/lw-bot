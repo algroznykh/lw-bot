{
 "cells": [
  {
   "cell_type": "code",
   "execution_count": 1,
   "metadata": {
    "collapsed": false
   },
   "outputs": [
    {
     "name": "stderr",
     "output_type": "stream",
     "text": [
      "Using TensorFlow backend.\n"
     ]
    }
   ],
   "source": [
    "from keras.models import model_from_json\n",
    "from functools import partial\n",
    "from itertools import islice\n",
    "import numpy as np\n",
    "import sys\n",
    "import json"
   ]
  },
  {
   "cell_type": "code",
   "execution_count": 2,
   "metadata": {
    "collapsed": false
   },
   "outputs": [
    {
     "name": "stdout",
     "output_type": "stream",
     "text": [
      "____________________________________________________________________________________________________\n",
      "Layer (type)                     Output Shape          Param #     Connected to                     \n",
      "====================================================================================================\n",
      "lstm_1 (LSTM)                    (None, 64, 512)       1245184     lstm_input_1[0][0]               \n",
      "____________________________________________________________________________________________________\n",
      "dropout_1 (Dropout)              (None, 64, 512)       0           lstm_1[0][0]                     \n",
      "____________________________________________________________________________________________________\n",
      "lstm_2 (LSTM)                    (None, 64, 512)       2099200     dropout_1[0][0]                  \n",
      "____________________________________________________________________________________________________\n",
      "dropout_2 (Dropout)              (None, 64, 512)       0           lstm_2[0][0]                     \n",
      "____________________________________________________________________________________________________\n",
      "lstm_3 (LSTM)                    (None, 512)           2099200     dropout_2[0][0]                  \n",
      "____________________________________________________________________________________________________\n",
      "dropout_3 (Dropout)              (None, 512)           0           lstm_3[0][0]                     \n",
      "____________________________________________________________________________________________________\n",
      "dense_1 (Dense)                  (None, 95)            48735       dropout_3[0][0]                  \n",
      "____________________________________________________________________________________________________\n",
      "activation_1 (Activation)        (None, 95)            0           dense_1[0][0]                    \n",
      "====================================================================================================\n",
      "Total params: 5,492,319\n",
      "Trainable params: 5,492,319\n",
      "Non-trainable params: 0\n",
      "____________________________________________________________________________________________________\n",
      "Input shape: (None, 64, 95)\n"
     ]
    }
   ],
   "source": [
    "model_name = 'input64x95_layers8_params5492k_h7b54'\n",
    "model_filename = 'models/%s.model.json' % (model_name, )\n",
    "with open(model_filename) as f:\n",
    "    model = model_from_json(f.read())\n",
    "model.name = model_name\n",
    "\n",
    "model.summary()\n",
    "print('Input shape: ' + repr(model.input_shape))"
   ]
  },
  {
   "cell_type": "code",
   "execution_count": 3,
   "metadata": {
    "collapsed": false
   },
   "outputs": [],
   "source": [
    "with open('models/' + model.name + '.chars.json') as f: \n",
    "    indices_char = {int(i): c for (i, c) in json.load(f).items()}\n",
    "    char_indices = {c: i for (i, c) in indices_char.items()}"
   ]
  },
  {
   "cell_type": "code",
   "execution_count": 4,
   "metadata": {
    "collapsed": false
   },
   "outputs": [
    {
     "name": "stdout",
     "output_type": "stream",
     "text": [
      "Loading weights...\n"
     ]
    }
   ],
   "source": [
    "weights_filename = 'models/input64x95_layers8_params5492k_h7b54.weights_loss1.2726.h5'\n",
    "print('Loading weights...')\n",
    "model.load_weights(weights_filename)"
   ]
  },
  {
   "cell_type": "code",
   "execution_count": 5,
   "metadata": {
    "collapsed": false
   },
   "outputs": [],
   "source": [
    "def char2vec(c):\n",
    "    ci = char_indices[c]\n",
    "    return np.array([int(i == ci) for i in range(len(char_indices))])\n",
    "\n",
    "def vec2char(v, diversity = 0, random_state = np.random):\n",
    "    v = np.ma.filled(np.exp(np.ma.log(v) / np.exp(diversity)), 0)\n",
    "    v = v / sum(v)\n",
    "    return indices_char[random_state.choice(len(indices_char), p=v)]"
   ]
  },
  {
   "cell_type": "code",
   "execution_count": 6,
   "metadata": {
    "collapsed": false
   },
   "outputs": [],
   "source": [
    "def speak(seed=\"\", random_state = np.random, diversity=0):\n",
    "    input_shape = model.input_shape[1:]\n",
    "    X = random_state.rand(*input_shape)\n",
    "    X = np.ones(input_shape)\n",
    "\n",
    "    for i in range(max(input_shape[0] - len(seed), 0), input_shape[0]):\n",
    "        X[i] = char2vec(seed[len(seed) - input_shape[0] + i])\n",
    "\n",
    "    v2c = partial(vec2char, random_state=random_state)\n",
    "    \n",
    "    while True:\n",
    "        y = model.predict(np.expand_dims(X, axis=0))[0]\n",
    "        X = np.roll(X, shift=-1, axis=0)\n",
    "        char = v2c(y, diversity=diversity)\n",
    "        X[-1] = char2vec(char)\n",
    "        yield char\n",
    "        \n",
    "\n",
    "def get_sentence(gen):\n",
    "    for c in gen:\n",
    "        yield c\n",
    "        if c in ['?', '!', '.']: break\n",
    "\n"
   ]
  },
  {
   "cell_type": "code",
   "execution_count": 14,
   "metadata": {
    "collapsed": false
   },
   "outputs": [
    {
     "name": "stdout",
     "output_type": "stream",
     "text": [
      "The same rule products from extravology, which never even way to be an answer a follower positive free billion things of moral unlooks?\n"
     ]
    }
   ],
   "source": [
    "seed = \"Sky is green. \"\n",
    "rnd = np.random.RandomState(1)\n",
    "        \n",
    "yudkowsky = speak(seed=seed, random_state=rnd, diversity=-0.2)\n",
    "\n",
    "for c in get_sentence(islice(yudkowsky, 1000)):\n",
    "    sys.stdout.write(c)\n",
    "    sys.stdout.flush()\n",
    "print()"
   ]
  }
 ],
 "metadata": {
  "kernelspec": {
   "display_name": "Python 3",
   "language": "python",
   "name": "python3"
  },
  "language_info": {
   "codemirror_mode": {
    "name": "ipython",
    "version": 3
   },
   "file_extension": ".py",
   "mimetype": "text/x-python",
   "name": "python",
   "nbconvert_exporter": "python",
   "pygments_lexer": "ipython3",
   "version": "3.5.2"
  }
 },
 "nbformat": 4,
 "nbformat_minor": 2
}
