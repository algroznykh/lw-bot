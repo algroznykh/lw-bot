{
 "cells": [
  {
   "cell_type": "code",
   "execution_count": 1,
   "metadata": {
    "collapsed": false,
    "deletable": true,
    "editable": true
   },
   "outputs": [
    {
     "name": "stderr",
     "output_type": "stream",
     "text": [
      "Using TensorFlow backend.\n"
     ]
    }
   ],
   "source": [
    "from keras.models import Sequential\n",
    "from keras.layers import Dense, Activation, TimeDistributed\n",
    "from keras.layers import LSTM\n",
    "from keras.layers import Dropout\n",
    "from keras.optimizers import RMSprop\n",
    "from keras_tqdm import TQDMNotebookCallback\n",
    "from keras.callbacks import ModelCheckpoint\n",
    "from sklearn.model_selection import train_test_split\n",
    "import keras\n",
    "import json\n",
    "import numpy as np\n",
    "import random\n",
    "import sys\n",
    "import re\n",
    "import hashlib\n",
    "import os.path\n",
    "from collections import Counter"
   ]
  },
  {
   "cell_type": "code",
   "execution_count": 2,
   "metadata": {
    "collapsed": false,
    "deletable": true,
    "editable": true
   },
   "outputs": [
    {
     "name": "stdout",
     "output_type": "stream",
     "text": [
      "corpus length: 5297143\n",
      "Counter({' ': 872154, 'e': 488583, 't': 397622, 'o': 331159, 'a': 314869, 'i': 304210, 'n': 289108, 's': 263372, 'r': 229723, 'h': 192644, 'l': 179703, 'u': 135404, 'd': 131923, 'c': 122805, 'm': 96587, 'y': 95085, 'p': 86220, 'f': 83762, 'g': 82848, 'w': 71028, 'b': 65213, ',': 46561, '.': 45484, 'v': 45268, '\\n': 39185, 'k': 30234, 'I': 23751, \"'\": 22320, '\"': 18704, '-': 17797, 'T': 11413, 'x': 11131, 'A': 9846, 'S': 6953, 'B': 6036, 'j': 5666, '0': 5235, 'q': 5185, 'W': 5122, '?': 5110, '1': 4838, 'E': 4763, ')': 4672, 'z': 4600, '(': 4535, ':': 4485, 'M': 4024, 'P': 3984, 'C': 3780, 'O': 3646, 'H': 3497, 'N': 3497, 'D': 3483, 'R': 3466, 'Y': 3273, '2': 3140, 'F': 3118, ';': 2687, 'L': 2665, 'G': 2511, '/': 2488, '3': 1802, '9': 1771, '!': 1763, '5': 1616, '>': 1493, 'U': 1351, '4': 1230, '*': 1196, 'J': 1152, '7': 1033, '#': 1025, '%': 977, '6': 947, '8': 933, 'X': 879, 'K': 724, 'V': 676, '_': 639, '=': 533, 'Z': 478, '$': 430, 'Q': 429, '+': 387, '\\\\': 351, '[': 210, ']': 208, '|': 196, '^': 195, '<': 91, '~': 74, '&': 69, '{': 46, '}': 46, '@': 18})\n",
      "total chars: 95\n"
     ]
    }
   ],
   "source": [
    "path = \"data/corpus.txt\"\n",
    "def read_file(path):\n",
    "    with open(path, encoding='utf8') as f: return f.read()\n",
    "\n",
    "text = ''.join(map(read_file, ['data/RFAtZ.txt', 'data/lw.txt', 'data/fb.txt', 'data/tweets.txt']))\n",
    "print('corpus length:', len(text))\n",
    "\n",
    "chars = Counter(text)\n",
    "print(chars)\n",
    "\n",
    "print('total chars:', len(chars))\n",
    "char_indices = dict((c, i) for i, c in enumerate(chars))\n",
    "indices_char = dict((i, c) for i, c in enumerate(chars))\n"
   ]
  },
  {
   "cell_type": "code",
   "execution_count": 4,
   "metadata": {
    "collapsed": false,
    "scrolled": true
   },
   "outputs": [
    {
     "name": "stdout",
     "output_type": "stream",
     "text": [
      "____________________________________________________________________________________________________\n",
      "Layer (type)                     Output Shape          Param #     Connected to                     \n",
      "====================================================================================================\n",
      "lstm_1 (LSTM)                    (None, 64, 512)       1245184     lstm_input_1[0][0]               \n",
      "____________________________________________________________________________________________________\n",
      "dropout_1 (Dropout)              (None, 64, 512)       0           lstm_1[0][0]                     \n",
      "____________________________________________________________________________________________________\n",
      "lstm_2 (LSTM)                    (None, 64, 512)       2099200     dropout_1[0][0]                  \n",
      "____________________________________________________________________________________________________\n",
      "dropout_2 (Dropout)              (None, 64, 512)       0           lstm_2[0][0]                     \n",
      "____________________________________________________________________________________________________\n",
      "lstm_3 (LSTM)                    (None, 512)           2099200     dropout_2[0][0]                  \n",
      "____________________________________________________________________________________________________\n",
      "dropout_3 (Dropout)              (None, 512)           0           lstm_3[0][0]                     \n",
      "____________________________________________________________________________________________________\n",
      "dense_1 (Dense)                  (None, 95)            48735       dropout_3[0][0]                  \n",
      "____________________________________________________________________________________________________\n",
      "activation_1 (Activation)        (None, 95)            0           dense_1[0][0]                    \n",
      "====================================================================================================\n",
      "Total params: 5,492,319\n",
      "Trainable params: 5,492,319\n",
      "Non-trainable params: 0\n",
      "____________________________________________________________________________________________________\n",
      "input64x95_layers8_params5492k_h7b54\n"
     ]
    }
   ],
   "source": [
    "maxlen = 64\n",
    "\n",
    "keras.backend.common.reset_uids()\n",
    "model = Sequential()\n",
    "model.add(LSTM(512, return_sequences=True, input_shape=(maxlen, len(chars))))\n",
    "model.add(Dropout(0.4))\n",
    "model.add(LSTM(512, return_sequences=True))\n",
    "model.add(Dropout(0.4))\n",
    "model.add(LSTM(512))\n",
    "model.add(Dropout(0.4))\n",
    "model.add(Dense(len(chars)))\n",
    "model.add(Activation('softmax'))\n",
    "model.summary()\n",
    "digest = hashlib.sha1(model.to_json(sort_keys=True).encode('utf-8')).hexdigest()[:4]\n",
    "model.compile(loss='categorical_crossentropy', optimizer='adam')\n",
    "model.name ='input%dx%d_layers%d_params%dk_h%s' % (model.input_shape[1:] + (len(model.layers), model.count_params()//1000, digest))\n",
    "print(model.name)\n",
    "model.save('models/' + model.name + '.model.h5')\n",
    "with open('models/' + model.name + '.model.json', 'w') as f: f.write(model.to_json(sort_keys=True))\n",
    "with open('models/' + model.name + '.chars.json', 'w') as f: json.dump(indices_char, f)"
   ]
  },
  {
   "cell_type": "code",
   "execution_count": 5,
   "metadata": {
    "collapsed": false,
    "deletable": true,
    "editable": true,
    "scrolled": true
   },
   "outputs": [
    {
     "name": "stdout",
     "output_type": "stream",
     "text": [
      "nb sequences: 1765693\n",
      "Vectorization...\n"
     ]
    }
   ],
   "source": [
    "# cut the text in semi-redundant sequences of maxlen characters\n",
    "step = 3\n",
    "sentences = []\n",
    "next_chars = []\n",
    "for i in range(0, len(text) - maxlen, step):\n",
    "    sentences.append(text[i : i + maxlen])\n",
    "    next_chars.append(text[i + maxlen])\n",
    "print('nb sequences:', len(sentences))\n",
    "print('Vectorization...')\n",
    "X = np.zeros((len(sentences), maxlen, len(chars)), dtype=np.bool)\n",
    "y = np.zeros((len(sentences), len(chars)), dtype=np.bool)\n",
    "for i, sentence in enumerate(sentences):\n",
    "    for t, char in enumerate(sentence):\n",
    "        X[i, t, char_indices[char]] = 1\n",
    "    y[i, char_indices[next_chars[i]]] = 1"
   ]
  },
  {
   "cell_type": "code",
   "execution_count": 6,
   "metadata": {
    "collapsed": false
   },
   "outputs": [
    {
     "name": "stdout",
     "output_type": "stream",
     "text": [
      "Splitting test...\n"
     ]
    }
   ],
   "source": [
    "print('Splitting test...')\n",
    "X_train, X_test, y_train, y_test = train_test_split(X, y, test_size=0.05, random_state=17045) # 17045 is the rationality number"
   ]
  },
  {
   "cell_type": "code",
   "execution_count": 10,
   "metadata": {
    "collapsed": true
   },
   "outputs": [],
   "source": []
  },
  {
   "cell_type": "code",
   "execution_count": null,
   "metadata": {
    "collapsed": true
   },
   "outputs": [],
   "source": [
    "weights_filename = 'models/' + model.name + '.weights_loss1.2726.h5'\n",
    "print('Loading weights...')\n",
    "model.load_weights(weights_filename)"
   ]
  },
  {
   "cell_type": "code",
   "execution_count": null,
   "metadata": {
    "collapsed": true
   },
   "outputs": [],
   "source": [
    "print('Evaluating...')\n",
    "print('loss: %f' % model.evaluate(X_test, y_test, verbose=0))"
   ]
  },
  {
   "cell_type": "code",
   "execution_count": 15,
   "metadata": {
    "collapsed": false
   },
   "outputs": [
    {
     "name": "stdout",
     "output_type": "stream",
     "text": [
      "Epoch 00000: val_loss improved from inf to 1.71457, saving model to models/input64x95_layers8_params5492k_h7b54.weights_loss1.7146:.h5\n",
      "Epoch 00001: val_loss improved from 1.71457 to 1.49439, saving model to models/input64x95_layers8_params5492k_h7b54.weights_loss1.4944:.h5\n",
      "Epoch 00002: val_loss improved from 1.49439 to 1.41519, saving model to models/input64x95_layers8_params5492k_h7b54.weights_loss1.4152:.h5\n",
      "Epoch 00003: val_loss improved from 1.41519 to 1.36877, saving model to models/input64x95_layers8_params5492k_h7b54.weights_loss1.3688:.h5\n",
      "Epoch 00004: val_loss improved from 1.36877 to 1.34236, saving model to models/input64x95_layers8_params5492k_h7b54.weights_loss1.3424:.h5\n",
      "Epoch 00005: val_loss improved from 1.34236 to 1.32167, saving model to models/input64x95_layers8_params5492k_h7b54.weights_loss1.3217:.h5\n",
      "Epoch 00006: val_loss improved from 1.32167 to 1.30619, saving model to models/input64x95_layers8_params5492k_h7b54.weights_loss1.3062:.h5\n",
      "Epoch 00007: val_loss improved from 1.30619 to 1.29437, saving model to models/input64x95_layers8_params5492k_h7b54.weights_loss1.2944:.h5\n",
      "Epoch 00008: val_loss improved from 1.29437 to 1.28681, saving model to models/input64x95_layers8_params5492k_h7b54.weights_loss1.2868:.h5\n",
      "Epoch 00009: val_loss improved from 1.28681 to 1.27710, saving model to models/input64x95_layers8_params5492k_h7b54.weights_loss1.2771:.h5\n",
      "Epoch 00010: val_loss improved from 1.27710 to 1.27255, saving model to models/input64x95_layers8_params5492k_h7b54.weights_loss1.2726:.h5\n"
     ]
    },
    {
     "ename": "KeyboardInterrupt",
     "evalue": "",
     "output_type": "error",
     "traceback": [
      "\u001b[0;31m---------------------------------------------------------------------------\u001b[0m",
      "\u001b[0;31mKeyboardInterrupt\u001b[0m                         Traceback (most recent call last)",
      "\u001b[0;32m<ipython-input-15-5763e70cd298>\u001b[0m in \u001b[0;36m<module>\u001b[0;34m()\u001b[0m\n\u001b[1;32m     11\u001b[0m         \u001b[0msave_best_only\u001b[0m\u001b[1;33m=\u001b[0m\u001b[1;32mTrue\u001b[0m\u001b[1;33m,\u001b[0m\u001b[1;33m\u001b[0m\u001b[0m\n\u001b[1;32m     12\u001b[0m         \u001b[0msave_weights_only\u001b[0m\u001b[1;33m=\u001b[0m\u001b[1;32mTrue\u001b[0m\u001b[1;33m,\u001b[0m\u001b[1;33m\u001b[0m\u001b[0m\n\u001b[0;32m---> 13\u001b[0;31m         \u001b[0mmode\u001b[0m\u001b[1;33m=\u001b[0m\u001b[1;34m'auto'\u001b[0m\u001b[1;33m,\u001b[0m\u001b[1;33m\u001b[0m\u001b[0m\n\u001b[0m\u001b[1;32m     14\u001b[0m     )\n\u001b[1;32m     15\u001b[0m     ])\n",
      "\u001b[0;32mC:\\Users\\Valentin\\Anaconda3\\envs\\tensorflow\\lib\\site-packages\\keras\\models.py\u001b[0m in \u001b[0;36mfit\u001b[0;34m(self, x, y, batch_size, nb_epoch, verbose, callbacks, validation_split, validation_data, shuffle, class_weight, sample_weight, initial_epoch, **kwargs)\u001b[0m\n\u001b[1;32m    670\u001b[0m                               \u001b[0mclass_weight\u001b[0m\u001b[1;33m=\u001b[0m\u001b[0mclass_weight\u001b[0m\u001b[1;33m,\u001b[0m\u001b[1;33m\u001b[0m\u001b[0m\n\u001b[1;32m    671\u001b[0m                               \u001b[0msample_weight\u001b[0m\u001b[1;33m=\u001b[0m\u001b[0msample_weight\u001b[0m\u001b[1;33m,\u001b[0m\u001b[1;33m\u001b[0m\u001b[0m\n\u001b[0;32m--> 672\u001b[0;31m                               initial_epoch=initial_epoch)\n\u001b[0m\u001b[1;32m    673\u001b[0m \u001b[1;33m\u001b[0m\u001b[0m\n\u001b[1;32m    674\u001b[0m     def evaluate(self, x, y, batch_size=32, verbose=1,\n",
      "\u001b[0;32mC:\\Users\\Valentin\\Anaconda3\\envs\\tensorflow\\lib\\site-packages\\keras\\engine\\training.py\u001b[0m in \u001b[0;36mfit\u001b[0;34m(self, x, y, batch_size, nb_epoch, verbose, callbacks, validation_split, validation_data, shuffle, class_weight, sample_weight, initial_epoch)\u001b[0m\n\u001b[1;32m   1194\u001b[0m                               \u001b[0mval_f\u001b[0m\u001b[1;33m=\u001b[0m\u001b[0mval_f\u001b[0m\u001b[1;33m,\u001b[0m \u001b[0mval_ins\u001b[0m\u001b[1;33m=\u001b[0m\u001b[0mval_ins\u001b[0m\u001b[1;33m,\u001b[0m \u001b[0mshuffle\u001b[0m\u001b[1;33m=\u001b[0m\u001b[0mshuffle\u001b[0m\u001b[1;33m,\u001b[0m\u001b[1;33m\u001b[0m\u001b[0m\n\u001b[1;32m   1195\u001b[0m                               \u001b[0mcallback_metrics\u001b[0m\u001b[1;33m=\u001b[0m\u001b[0mcallback_metrics\u001b[0m\u001b[1;33m,\u001b[0m\u001b[1;33m\u001b[0m\u001b[0m\n\u001b[0;32m-> 1196\u001b[0;31m                               initial_epoch=initial_epoch)\n\u001b[0m\u001b[1;32m   1197\u001b[0m \u001b[1;33m\u001b[0m\u001b[0m\n\u001b[1;32m   1198\u001b[0m     \u001b[1;32mdef\u001b[0m \u001b[0mevaluate\u001b[0m\u001b[1;33m(\u001b[0m\u001b[0mself\u001b[0m\u001b[1;33m,\u001b[0m \u001b[0mx\u001b[0m\u001b[1;33m,\u001b[0m \u001b[0my\u001b[0m\u001b[1;33m,\u001b[0m \u001b[0mbatch_size\u001b[0m\u001b[1;33m=\u001b[0m\u001b[1;36m32\u001b[0m\u001b[1;33m,\u001b[0m \u001b[0mverbose\u001b[0m\u001b[1;33m=\u001b[0m\u001b[1;36m1\u001b[0m\u001b[1;33m,\u001b[0m \u001b[0msample_weight\u001b[0m\u001b[1;33m=\u001b[0m\u001b[1;32mNone\u001b[0m\u001b[1;33m)\u001b[0m\u001b[1;33m:\u001b[0m\u001b[1;33m\u001b[0m\u001b[0m\n",
      "\u001b[0;32mC:\\Users\\Valentin\\Anaconda3\\envs\\tensorflow\\lib\\site-packages\\keras\\engine\\training.py\u001b[0m in \u001b[0;36m_fit_loop\u001b[0;34m(self, f, ins, out_labels, batch_size, nb_epoch, verbose, callbacks, val_f, val_ins, shuffle, callback_metrics, initial_epoch)\u001b[0m\n\u001b[1;32m    889\u001b[0m                 \u001b[0mbatch_logs\u001b[0m\u001b[1;33m[\u001b[0m\u001b[1;34m'size'\u001b[0m\u001b[1;33m]\u001b[0m \u001b[1;33m=\u001b[0m \u001b[0mlen\u001b[0m\u001b[1;33m(\u001b[0m\u001b[0mbatch_ids\u001b[0m\u001b[1;33m)\u001b[0m\u001b[1;33m\u001b[0m\u001b[0m\n\u001b[1;32m    890\u001b[0m                 \u001b[0mcallbacks\u001b[0m\u001b[1;33m.\u001b[0m\u001b[0mon_batch_begin\u001b[0m\u001b[1;33m(\u001b[0m\u001b[0mbatch_index\u001b[0m\u001b[1;33m,\u001b[0m \u001b[0mbatch_logs\u001b[0m\u001b[1;33m)\u001b[0m\u001b[1;33m\u001b[0m\u001b[0m\n\u001b[0;32m--> 891\u001b[0;31m                 \u001b[0mouts\u001b[0m \u001b[1;33m=\u001b[0m \u001b[0mf\u001b[0m\u001b[1;33m(\u001b[0m\u001b[0mins_batch\u001b[0m\u001b[1;33m)\u001b[0m\u001b[1;33m\u001b[0m\u001b[0m\n\u001b[0m\u001b[1;32m    892\u001b[0m                 \u001b[1;32mif\u001b[0m \u001b[1;32mnot\u001b[0m \u001b[0misinstance\u001b[0m\u001b[1;33m(\u001b[0m\u001b[0mouts\u001b[0m\u001b[1;33m,\u001b[0m \u001b[0mlist\u001b[0m\u001b[1;33m)\u001b[0m\u001b[1;33m:\u001b[0m\u001b[1;33m\u001b[0m\u001b[0m\n\u001b[1;32m    893\u001b[0m                     \u001b[0mouts\u001b[0m \u001b[1;33m=\u001b[0m \u001b[1;33m[\u001b[0m\u001b[0mouts\u001b[0m\u001b[1;33m]\u001b[0m\u001b[1;33m\u001b[0m\u001b[0m\n",
      "\u001b[0;32mC:\\Users\\Valentin\\Anaconda3\\envs\\tensorflow\\lib\\site-packages\\keras\\backend\\tensorflow_backend.py\u001b[0m in \u001b[0;36m__call__\u001b[0;34m(self, inputs)\u001b[0m\n\u001b[1;32m   1941\u001b[0m         \u001b[0msession\u001b[0m \u001b[1;33m=\u001b[0m \u001b[0mget_session\u001b[0m\u001b[1;33m(\u001b[0m\u001b[1;33m)\u001b[0m\u001b[1;33m\u001b[0m\u001b[0m\n\u001b[1;32m   1942\u001b[0m         updated = session.run(self.outputs + [self.updates_op],\n\u001b[0;32m-> 1943\u001b[0;31m                               feed_dict=feed_dict)\n\u001b[0m\u001b[1;32m   1944\u001b[0m         \u001b[1;32mreturn\u001b[0m \u001b[0mupdated\u001b[0m\u001b[1;33m[\u001b[0m\u001b[1;33m:\u001b[0m\u001b[0mlen\u001b[0m\u001b[1;33m(\u001b[0m\u001b[0mself\u001b[0m\u001b[1;33m.\u001b[0m\u001b[0moutputs\u001b[0m\u001b[1;33m)\u001b[0m\u001b[1;33m]\u001b[0m\u001b[1;33m\u001b[0m\u001b[0m\n\u001b[1;32m   1945\u001b[0m \u001b[1;33m\u001b[0m\u001b[0m\n",
      "\u001b[0;32mC:\\Users\\Valentin\\Anaconda3\\envs\\tensorflow\\lib\\site-packages\\tensorflow\\python\\client\\session.py\u001b[0m in \u001b[0;36mrun\u001b[0;34m(self, fetches, feed_dict, options, run_metadata)\u001b[0m\n\u001b[1;32m    765\u001b[0m     \u001b[1;32mtry\u001b[0m\u001b[1;33m:\u001b[0m\u001b[1;33m\u001b[0m\u001b[0m\n\u001b[1;32m    766\u001b[0m       result = self._run(None, fetches, feed_dict, options_ptr,\n\u001b[0;32m--> 767\u001b[0;31m                          run_metadata_ptr)\n\u001b[0m\u001b[1;32m    768\u001b[0m       \u001b[1;32mif\u001b[0m \u001b[0mrun_metadata\u001b[0m\u001b[1;33m:\u001b[0m\u001b[1;33m\u001b[0m\u001b[0m\n\u001b[1;32m    769\u001b[0m         \u001b[0mproto_data\u001b[0m \u001b[1;33m=\u001b[0m \u001b[0mtf_session\u001b[0m\u001b[1;33m.\u001b[0m\u001b[0mTF_GetBuffer\u001b[0m\u001b[1;33m(\u001b[0m\u001b[0mrun_metadata_ptr\u001b[0m\u001b[1;33m)\u001b[0m\u001b[1;33m\u001b[0m\u001b[0m\n",
      "\u001b[0;32mC:\\Users\\Valentin\\Anaconda3\\envs\\tensorflow\\lib\\site-packages\\tensorflow\\python\\client\\session.py\u001b[0m in \u001b[0;36m_run\u001b[0;34m(self, handle, fetches, feed_dict, options, run_metadata)\u001b[0m\n\u001b[1;32m    963\u001b[0m     \u001b[1;32mif\u001b[0m \u001b[0mfinal_fetches\u001b[0m \u001b[1;32mor\u001b[0m \u001b[0mfinal_targets\u001b[0m\u001b[1;33m:\u001b[0m\u001b[1;33m\u001b[0m\u001b[0m\n\u001b[1;32m    964\u001b[0m       results = self._do_run(handle, final_targets, final_fetches,\n\u001b[0;32m--> 965\u001b[0;31m                              feed_dict_string, options, run_metadata)\n\u001b[0m\u001b[1;32m    966\u001b[0m     \u001b[1;32melse\u001b[0m\u001b[1;33m:\u001b[0m\u001b[1;33m\u001b[0m\u001b[0m\n\u001b[1;32m    967\u001b[0m       \u001b[0mresults\u001b[0m \u001b[1;33m=\u001b[0m \u001b[1;33m[\u001b[0m\u001b[1;33m]\u001b[0m\u001b[1;33m\u001b[0m\u001b[0m\n",
      "\u001b[0;32mC:\\Users\\Valentin\\Anaconda3\\envs\\tensorflow\\lib\\site-packages\\tensorflow\\python\\client\\session.py\u001b[0m in \u001b[0;36m_do_run\u001b[0;34m(self, handle, target_list, fetch_list, feed_dict, options, run_metadata)\u001b[0m\n\u001b[1;32m   1013\u001b[0m     \u001b[1;32mif\u001b[0m \u001b[0mhandle\u001b[0m \u001b[1;32mis\u001b[0m \u001b[1;32mNone\u001b[0m\u001b[1;33m:\u001b[0m\u001b[1;33m\u001b[0m\u001b[0m\n\u001b[1;32m   1014\u001b[0m       return self._do_call(_run_fn, self._session, feed_dict, fetch_list,\n\u001b[0;32m-> 1015\u001b[0;31m                            target_list, options, run_metadata)\n\u001b[0m\u001b[1;32m   1016\u001b[0m     \u001b[1;32melse\u001b[0m\u001b[1;33m:\u001b[0m\u001b[1;33m\u001b[0m\u001b[0m\n\u001b[1;32m   1017\u001b[0m       return self._do_call(_prun_fn, self._session, handle, feed_dict,\n",
      "\u001b[0;32mC:\\Users\\Valentin\\Anaconda3\\envs\\tensorflow\\lib\\site-packages\\tensorflow\\python\\client\\session.py\u001b[0m in \u001b[0;36m_do_call\u001b[0;34m(self, fn, *args)\u001b[0m\n\u001b[1;32m   1020\u001b[0m   \u001b[1;32mdef\u001b[0m \u001b[0m_do_call\u001b[0m\u001b[1;33m(\u001b[0m\u001b[0mself\u001b[0m\u001b[1;33m,\u001b[0m \u001b[0mfn\u001b[0m\u001b[1;33m,\u001b[0m \u001b[1;33m*\u001b[0m\u001b[0margs\u001b[0m\u001b[1;33m)\u001b[0m\u001b[1;33m:\u001b[0m\u001b[1;33m\u001b[0m\u001b[0m\n\u001b[1;32m   1021\u001b[0m     \u001b[1;32mtry\u001b[0m\u001b[1;33m:\u001b[0m\u001b[1;33m\u001b[0m\u001b[0m\n\u001b[0;32m-> 1022\u001b[0;31m       \u001b[1;32mreturn\u001b[0m \u001b[0mfn\u001b[0m\u001b[1;33m(\u001b[0m\u001b[1;33m*\u001b[0m\u001b[0margs\u001b[0m\u001b[1;33m)\u001b[0m\u001b[1;33m\u001b[0m\u001b[0m\n\u001b[0m\u001b[1;32m   1023\u001b[0m     \u001b[1;32mexcept\u001b[0m \u001b[0merrors\u001b[0m\u001b[1;33m.\u001b[0m\u001b[0mOpError\u001b[0m \u001b[1;32mas\u001b[0m \u001b[0me\u001b[0m\u001b[1;33m:\u001b[0m\u001b[1;33m\u001b[0m\u001b[0m\n\u001b[1;32m   1024\u001b[0m       \u001b[0mmessage\u001b[0m \u001b[1;33m=\u001b[0m \u001b[0mcompat\u001b[0m\u001b[1;33m.\u001b[0m\u001b[0mas_text\u001b[0m\u001b[1;33m(\u001b[0m\u001b[0me\u001b[0m\u001b[1;33m.\u001b[0m\u001b[0mmessage\u001b[0m\u001b[1;33m)\u001b[0m\u001b[1;33m\u001b[0m\u001b[0m\n",
      "\u001b[0;32mC:\\Users\\Valentin\\Anaconda3\\envs\\tensorflow\\lib\\site-packages\\tensorflow\\python\\client\\session.py\u001b[0m in \u001b[0;36m_run_fn\u001b[0;34m(session, feed_dict, fetch_list, target_list, options, run_metadata)\u001b[0m\n\u001b[1;32m   1002\u001b[0m         return tf_session.TF_Run(session, options,\n\u001b[1;32m   1003\u001b[0m                                  \u001b[0mfeed_dict\u001b[0m\u001b[1;33m,\u001b[0m \u001b[0mfetch_list\u001b[0m\u001b[1;33m,\u001b[0m \u001b[0mtarget_list\u001b[0m\u001b[1;33m,\u001b[0m\u001b[1;33m\u001b[0m\u001b[0m\n\u001b[0;32m-> 1004\u001b[0;31m                                  status, run_metadata)\n\u001b[0m\u001b[1;32m   1005\u001b[0m \u001b[1;33m\u001b[0m\u001b[0m\n\u001b[1;32m   1006\u001b[0m     \u001b[1;32mdef\u001b[0m \u001b[0m_prun_fn\u001b[0m\u001b[1;33m(\u001b[0m\u001b[0msession\u001b[0m\u001b[1;33m,\u001b[0m \u001b[0mhandle\u001b[0m\u001b[1;33m,\u001b[0m \u001b[0mfeed_dict\u001b[0m\u001b[1;33m,\u001b[0m \u001b[0mfetch_list\u001b[0m\u001b[1;33m)\u001b[0m\u001b[1;33m:\u001b[0m\u001b[1;33m\u001b[0m\u001b[0m\n",
      "\u001b[0;31mKeyboardInterrupt\u001b[0m: "
     ]
    }
   ],
   "source": [
    "history = model.fit(\n",
    "    X_train, y_train,\n",
    "    validation_data=(X_test, y_test),\n",
    "    batch_size=256, nb_epoch=12,\n",
    "    verbose=0, callbacks=[\n",
    "      TQDMNotebookCallback(),\n",
    "      ModelCheckpoint(\n",
    "        'models/' + model.name + '.weights_loss{val_loss:.4f}.h5',\n",
    "        monitor='val_loss',\n",
    "        verbose=1,\n",
    "        save_best_only=True,\n",
    "        save_weights_only=True,\n",
    "        mode='auto',\n",
    "    )\n",
    "    ])\n",
    "\n",
    "history.history"
   ]
  },
  {
   "cell_type": "code",
   "execution_count": 16,
   "metadata": {
    "collapsed": true
   },
   "outputs": [],
   "source": [
    "model.save_weights('models/input64x95_layers8_params5492k_h7b54.weights_loss1.2726.h5')"
   ]
  }
 ],
 "metadata": {
  "kernelspec": {
   "display_name": "Python 3",
   "language": "python",
   "name": "python3"
  },
  "language_info": {
   "codemirror_mode": {
    "name": "ipython",
    "version": 3
   },
   "file_extension": ".py",
   "mimetype": "text/x-python",
   "name": "python",
   "nbconvert_exporter": "python",
   "pygments_lexer": "ipython3",
   "version": "3.5.2"
  },
  "widgets": {
   "state": {
    "008c2b5b9c894a799dbea623d752b85e": {
     "views": [
      {
       "cell_index": 4
      }
     ]
    },
    "097a1153243c478cb45311c507a2181e": {
     "views": [
      {
       "cell_index": 4
      }
     ]
    },
    "0d2ae0c0913c4b248b8fe59983ce57c6": {
     "views": [
      {
       "cell_index": 5
      }
     ]
    },
    "0f53e4a204a64cfca232a7055f2191f7": {
     "views": [
      {
       "cell_index": 4
      }
     ]
    },
    "10730ef4b15140128373599be2ac0b97": {
     "views": [
      {
       "cell_index": 8
      }
     ]
    },
    "1139bba4d65740289454a9d03fa1b576": {
     "views": [
      {
       "cell_index": 4
      }
     ]
    },
    "1276c0c9c1ed48a79c9ce031c94fb236": {
     "views": [
      {
       "cell_index": 4
      }
     ]
    },
    "12dac8d48c6b4b0b9ea031e04d9fe0a8": {
     "views": [
      {
       "cell_index": 8
      }
     ]
    },
    "15f0e01c19d5490d90b738ba959349a1": {
     "views": [
      {
       "cell_index": 4
      }
     ]
    },
    "1699a37a559f4c0e9718579445cc3fa0": {
     "views": [
      {
       "cell_index": 4
      }
     ]
    },
    "1801c0f051244d488c559b8bd1d37ac0": {
     "views": [
      {
       "cell_index": 4
      }
     ]
    },
    "1b3277363a4449a19eb23aeeb7013378": {
     "views": [
      {
       "cell_index": 4
      }
     ]
    },
    "1c09d674d89f413c8472674fee96e88d": {
     "views": [
      {
       "cell_index": 4
      }
     ]
    },
    "1c7c5dbf403c4bfa83f5ad782f39b156": {
     "views": [
      {
       "cell_index": 8
      }
     ]
    },
    "1ec0d2c6f7bd4f66bd8960e9287ad9e9": {
     "views": [
      {
       "cell_index": 4
      }
     ]
    },
    "21f1dd8b56434186950419846bcc3d11": {
     "views": [
      {
       "cell_index": 4
      }
     ]
    },
    "2225a0f221154d7caf780e65fdf7ac43": {
     "views": [
      {
       "cell_index": 4
      }
     ]
    },
    "22fbd2dfe07c424e9b9358064e89ab53": {
     "views": [
      {
       "cell_index": 4
      }
     ]
    },
    "2425880f2df141be93f1b428a0e661f0": {
     "views": [
      {
       "cell_index": 4
      }
     ]
    },
    "24881c84daa745a5864ba0ec66a44049": {
     "views": [
      {
       "cell_index": 8
      }
     ]
    },
    "29f2cfc36de54c2fabe653f62b27801e": {
     "views": [
      {
       "cell_index": 4
      }
     ]
    },
    "2ada60166e094a239cc5ae245c47419d": {
     "views": [
      {
       "cell_index": 4
      }
     ]
    },
    "2b4f4b7c7bc04307aa0865fa43aa5180": {
     "views": [
      {
       "cell_index": 4
      }
     ]
    },
    "2be2e75f7662442fbc22c4a81a3febfe": {
     "views": [
      {
       "cell_index": 4
      }
     ]
    },
    "2be7fa61b22f4b8ca2a1ba1e6663e91e": {
     "views": [
      {
       "cell_index": 4
      }
     ]
    },
    "2fe68fa424584201a58d1ade1d3cac3d": {
     "views": [
      {
       "cell_index": 4
      }
     ]
    },
    "32f2a23acecd4413a938bbb19c6b01b1": {
     "views": [
      {
       "cell_index": 4
      }
     ]
    },
    "33663fdd2d664da8a41fe6770af8065f": {
     "views": [
      {
       "cell_index": 4
      }
     ]
    },
    "35215ca20d3a4a9994866a50bf1774c3": {
     "views": [
      {
       "cell_index": 8
      }
     ]
    },
    "38380c337b9344589884c8d6e132d721": {
     "views": [
      {
       "cell_index": 4
      }
     ]
    },
    "392e43b8eb934a1fbeb9bb7df225bd6b": {
     "views": [
      {
       "cell_index": 4
      }
     ]
    },
    "3970631095b149afa1856d62b1f62265": {
     "views": [
      {
       "cell_index": 4
      }
     ]
    },
    "3bf8049d570547aa9fc518d4d72c5cfc": {
     "views": [
      {
       "cell_index": 5
      }
     ]
    },
    "3ca6c2cedb9545d09f83fb537d66e6b8": {
     "views": [
      {
       "cell_index": 4
      }
     ]
    },
    "3e2a8e15ec11425b89db4b37bba92f70": {
     "views": [
      {
       "cell_index": 8
      }
     ]
    },
    "441385eac8d44cef93d9b1efd13147da": {
     "views": [
      {
       "cell_index": 4
      }
     ]
    },
    "44f146aa19bb4099a701754778e841a9": {
     "views": [
      {
       "cell_index": 4
      }
     ]
    },
    "463db33717d04209b670db3b30a0282f": {
     "views": [
      {
       "cell_index": 4
      }
     ]
    },
    "4865862f2fa9466db26066464ed2fb2a": {
     "views": [
      {
       "cell_index": 4
      }
     ]
    },
    "497111570a174dc9941cf5c4c2daa3ff": {
     "views": [
      {
       "cell_index": 5
      }
     ]
    },
    "4bb78edc1d484bb49c60b86cee27513a": {
     "views": [
      {
       "cell_index": 4
      }
     ]
    },
    "503558e39e7646ebbf91669e06f13997": {
     "views": [
      {
       "cell_index": 4
      }
     ]
    },
    "536b628793de4ed49cad8dd322b9af00": {
     "views": [
      {
       "cell_index": 4
      }
     ]
    },
    "559c3c83fb1c440dbe9d1b2354f608ee": {
     "views": [
      {
       "cell_index": 4
      }
     ]
    },
    "5811ddac353745fd989530ecbc5016c1": {
     "views": [
      {
       "cell_index": 4
      }
     ]
    },
    "58eee48197a44221942df6cfd10bf442": {
     "views": [
      {
       "cell_index": 4
      }
     ]
    },
    "5b70e6b0ffaf4742ab6f3e1349e20b1d": {
     "views": [
      {
       "cell_index": 4
      }
     ]
    },
    "5d58e2795e394e4294c3f50761a53fbe": {
     "views": [
      {
       "cell_index": 4
      }
     ]
    },
    "5dde347e0714464185080b48f7ad42c7": {
     "views": [
      {
       "cell_index": 4
      }
     ]
    },
    "5f3bae6769984838b92de003dc53a76a": {
     "views": [
      {
       "cell_index": 4
      }
     ]
    },
    "5f80a1c7d4a74e31b4c4463b2492d125": {
     "views": [
      {
       "cell_index": 4
      }
     ]
    },
    "60fbf1ed809d4ce3b25667d16a52f89a": {
     "views": [
      {
       "cell_index": 4
      }
     ]
    },
    "638843086a5b4bac9026782cf6c404a0": {
     "views": [
      {
       "cell_index": 8
      }
     ]
    },
    "65b4b5fa0923423aaac17903b951da12": {
     "views": [
      {
       "cell_index": 4
      }
     ]
    },
    "6722b4cbad004449898b691a136da51d": {
     "views": [
      {
       "cell_index": 4
      }
     ]
    },
    "6a3fb0502f6b4df1bc08ef862af03ede": {
     "views": [
      {
       "cell_index": 4
      }
     ]
    },
    "6b0ffe6dc03e4f3aa9d6b6507440e718": {
     "views": [
      {
       "cell_index": 4
      }
     ]
    },
    "6bdc89744b0f46b086a67782564c56af": {
     "views": [
      {
       "cell_index": 4
      }
     ]
    },
    "6ce6e6be2c224eeda940cbf534b7a9e0": {
     "views": [
      {
       "cell_index": 4
      }
     ]
    },
    "700d9256d5064f329f86745526e3826b": {
     "views": [
      {
       "cell_index": 5
      }
     ]
    },
    "791a399809cd4291b6c2ae09cda35b55": {
     "views": [
      {
       "cell_index": 4
      }
     ]
    },
    "794a47749171446db894411c32811e78": {
     "views": [
      {
       "cell_index": 4
      }
     ]
    },
    "799cc71ed50e465da28d1c5ddf05ef41": {
     "views": [
      {
       "cell_index": 4
      }
     ]
    },
    "7d159b6da1384e959e8bb1cd74d09caf": {
     "views": [
      {
       "cell_index": 4
      }
     ]
    },
    "7f4d4ef6c0fb43b7a7276962d21b4555": {
     "views": [
      {
       "cell_index": 4
      }
     ]
    },
    "8279216e8d6d4d138a1f69e6691b000a": {
     "views": [
      {
       "cell_index": 8
      }
     ]
    },
    "83107cd384614ca681317e9bd2b25110": {
     "views": [
      {
       "cell_index": 4
      }
     ]
    },
    "850e767a7ebb4f55bfe88306ae352465": {
     "views": [
      {
       "cell_index": 4
      }
     ]
    },
    "85571283284b4bb9af3bb000647667e2": {
     "views": [
      {
       "cell_index": 4
      }
     ]
    },
    "89bdb53be9d7459d9b047292b66ecba5": {
     "views": [
      {
       "cell_index": 4
      }
     ]
    },
    "8a11337641d64c68acdc3c59e519fbd5": {
     "views": [
      {
       "cell_index": 8
      }
     ]
    },
    "90b19d7eaf73423789e75ad9a740cb79": {
     "views": [
      {
       "cell_index": 4
      }
     ]
    },
    "912e22f7d77041db82c71f0c1a369fe1": {
     "views": [
      {
       "cell_index": 4
      }
     ]
    },
    "9141db0f51154e9f8f89b65d50b582c9": {
     "views": [
      {
       "cell_index": 4
      }
     ]
    },
    "9205b92c9fae4581b8f3e51c3ca4933d": {
     "views": [
      {
       "cell_index": 4
      }
     ]
    },
    "969d01c8a71e43398cc13fe94c7f974d": {
     "views": [
      {
       "cell_index": 4
      }
     ]
    },
    "990fc1298d53425497c4447e98c03fee": {
     "views": [
      {
       "cell_index": 4
      }
     ]
    },
    "9912515e48574e01ad0270df40fa0141": {
     "views": [
      {
       "cell_index": 8
      }
     ]
    },
    "9943589a0beb4453a0f3a58520577370": {
     "views": [
      {
       "cell_index": 4
      }
     ]
    },
    "99d573f33dc64194ba5bb86fa99d21e2": {
     "views": [
      {
       "cell_index": 4
      }
     ]
    },
    "9a6f7d2fdfd9451aba409903017f4ee4": {
     "views": [
      {
       "cell_index": 8
      }
     ]
    },
    "9b33bc16cbbd4e7badd726132cb66b15": {
     "views": [
      {
       "cell_index": 4
      }
     ]
    },
    "9bf1a97ac54b43879dfd564867da6d55": {
     "views": [
      {
       "cell_index": 4
      }
     ]
    },
    "9df9beebbc584c82ab4e2685b3d2a385": {
     "views": [
      {
       "cell_index": 5
      }
     ]
    },
    "a3cb162897d541839d8bf809011367e6": {
     "views": [
      {
       "cell_index": 8
      }
     ]
    },
    "a600b90d69fc4b498fad140d3c72afaa": {
     "views": [
      {
       "cell_index": 5
      }
     ]
    },
    "a68a91ea21ff440baa02155ba4ecec92": {
     "views": [
      {
       "cell_index": 4
      }
     ]
    },
    "a8f4d69ff2104a3e826679391a499d67": {
     "views": [
      {
       "cell_index": 4
      }
     ]
    },
    "a92e9356ad244c29aa7008907f4e3ed6": {
     "views": [
      {
       "cell_index": 4
      }
     ]
    },
    "a9b2459dc38f4ebca0168365c2d74160": {
     "views": [
      {
       "cell_index": 4
      }
     ]
    },
    "ac5592e3a99645eabe7db78dd333fd32": {
     "views": [
      {
       "cell_index": 8
      }
     ]
    },
    "adea28aa91c74886b3dd8a6e54ecd97b": {
     "views": [
      {
       "cell_index": 5
      }
     ]
    },
    "ae1abc80ce87465888e05fa0473c0e02": {
     "views": [
      {
       "cell_index": 4
      }
     ]
    },
    "ae860f8cc2a0422aa06ab94b940cde02": {
     "views": [
      {
       "cell_index": 4
      }
     ]
    },
    "b4a7996824b1482fa178c9c350525a8f": {
     "views": [
      {
       "cell_index": 4
      }
     ]
    },
    "b880efe3b11446199f9d83cff338e67a": {
     "views": [
      {
       "cell_index": 4
      }
     ]
    },
    "bb32b9012f3b44e7be6e291689848051": {
     "views": [
      {
       "cell_index": 4
      }
     ]
    },
    "be28e72ed1aa4fb29ad1405a4fad49c9": {
     "views": [
      {
       "cell_index": 4
      }
     ]
    },
    "be4b5e81d35a4a0d8ed481a1f1a6ee09": {
     "views": [
      {
       "cell_index": 8
      }
     ]
    },
    "be6181e239974738aa8d40d4a2d4acc4": {
     "views": [
      {
       "cell_index": 8
      }
     ]
    },
    "c2ca140154cf4d909ecbf4d6e4675f48": {
     "views": [
      {
       "cell_index": 4
      }
     ]
    },
    "c5ec83ea475144adabeb673e1c57027a": {
     "views": [
      {
       "cell_index": 4
      }
     ]
    },
    "cc5f28490288412e96bd7cb31a90c47f": {
     "views": [
      {
       "cell_index": 4
      }
     ]
    },
    "d0fbf2f5ffd6407eac0e005ff244426c": {
     "views": [
      {
       "cell_index": 5
      }
     ]
    },
    "d27e8bda902540d1805524a241dc06a1": {
     "views": [
      {
       "cell_index": 4
      }
     ]
    },
    "d3433ecf336040b8bc73f50b51e5300a": {
     "views": [
      {
       "cell_index": 4
      }
     ]
    },
    "d456f7659e3f4707b8c5406eae70ac25": {
     "views": [
      {
       "cell_index": 4
      }
     ]
    },
    "d7125e8bc5354e1e8f39b1aab49c4008": {
     "views": [
      {
       "cell_index": 4
      }
     ]
    },
    "d82ea89cd72d40c3af7ce7f08f001678": {
     "views": [
      {
       "cell_index": 5
      }
     ]
    },
    "d852876f9cf24f4098ebfed6bda6ffdd": {
     "views": [
      {
       "cell_index": 4
      }
     ]
    },
    "da0300733f274143bd64811cd98f57d8": {
     "views": [
      {
       "cell_index": 4
      }
     ]
    },
    "de4aec67c307499880bfee0c2b41f44e": {
     "views": [
      {
       "cell_index": 4
      }
     ]
    },
    "e019ef1148e646828dc69bfc9caa33e3": {
     "views": [
      {
       "cell_index": 4
      }
     ]
    },
    "e068a48665ab489fa5213ce12d242b02": {
     "views": [
      {
       "cell_index": 4
      }
     ]
    },
    "e2d1c4c846b7429d85203fd7ccdc3957": {
     "views": [
      {
       "cell_index": 4
      }
     ]
    },
    "e3992c15dadb4dfc8341412c64d3ad93": {
     "views": [
      {
       "cell_index": 4
      }
     ]
    },
    "e3f09461bfcf471e9683676f6b4ae12b": {
     "views": [
      {
       "cell_index": 4
      }
     ]
    },
    "e5408f2a206d46d88a0a5ea6a19b7f9f": {
     "views": [
      {
       "cell_index": 5
      }
     ]
    },
    "e56a3dd0d4f94937b37e6458dc336519": {
     "views": [
      {
       "cell_index": 5
      }
     ]
    },
    "e6605d7c056748a9a3f658561b3c6c96": {
     "views": [
      {
       "cell_index": 4
      }
     ]
    },
    "e69da7f26be943f1ad79f69a426fac37": {
     "views": [
      {
       "cell_index": 4
      }
     ]
    },
    "e91f52c3dd76450fbcd58444ed76c629": {
     "views": [
      {
       "cell_index": 4
      }
     ]
    },
    "e98e436db4ea437c9d5b28e84e9741cd": {
     "views": [
      {
       "cell_index": 8
      }
     ]
    },
    "ea4fa0e8943749e28912ce32fc330e6b": {
     "views": [
      {
       "cell_index": 4
      }
     ]
    },
    "ec37be2daf1447d290a59c92fad288a3": {
     "views": [
      {
       "cell_index": 4
      }
     ]
    },
    "f1248ea38f1d47df8e11101f5da27f8a": {
     "views": [
      {
       "cell_index": 4
      }
     ]
    },
    "f6b83eb237354eaf9fe9557330ce92ca": {
     "views": [
      {
       "cell_index": 8
      }
     ]
    },
    "f74ce14f026e49d698e11586c6e56cd2": {
     "views": [
      {
       "cell_index": 4
      }
     ]
    },
    "f7526cf3b8944640aeaf19ea4cde24e6": {
     "views": [
      {
       "cell_index": 4
      }
     ]
    },
    "fb612e1dd5da45f9a31ec7af7ae23ea6": {
     "views": [
      {
       "cell_index": 4
      }
     ]
    },
    "fd5c6f15081c4df8b09ba6870bbf443b": {
     "views": [
      {
       "cell_index": 5
      }
     ]
    }
   },
   "version": "1.2.0"
  }
 },
 "nbformat": 4,
 "nbformat_minor": 2
}
